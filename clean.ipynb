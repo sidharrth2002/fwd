{
 "cells": [
  {
   "cell_type": "code",
   "execution_count": null,
   "metadata": {},
   "outputs": [],
   "source": [
    "### Trustpilot data cleaning module \n",
    "### Author: Hakim Khalafi\n",
    "\n",
    "import re\n",
    "import os\n",
    "import io\n",
    "import csv\n",
    "import string\n",
    "from pathlib import Path"
   ]
  },
  {
   "cell_type": "code",
   "execution_count": null,
   "metadata": {},
   "outputs": [],
   "source": [
    "## Function definitions\n",
    "\n",
    "def isolate_punctuation(s):\n",
    "    s = re.sub('([.,!?();:\"])', r' \\1 ', s) # isolate punctuation\n",
    "    s = ' '.join(s.split()) # Remove space multiples \n",
    "    return s\n",
    "\n",
    "def make_dirs(directories):\n",
    "    for directory in directories:\n",
    "        Path(directory).mkdir(parents=True, exist_ok=True)"
   ]
  },
  {
   "cell_type": "code",
   "execution_count": null,
   "metadata": {},
   "outputs": [],
   "source": [
    "## Configurations\n",
    "\n",
    "# Current file folder\n",
    "script_folder = os.path.realpath('.')\n",
    "\n",
    "# Data file generated from scrape step\n",
    "data_files = ['dataSkype.csv'] \n",
    "#data_files = [dataO2.csv','dataSkype.csv','dataThree.csv','dataVodafone.csv']\n",
    "\n",
    "# Folder to save our cleaned data for analyse step\n",
    "data_outfolder = 'skype-binary-classification'\n",
    "#data_outfolder = 'telephony12k-5star'\n",
    "data_outfolder = os.path.join(script_folder, data_outfolder)\n",
    "make_dirs([data_outfolder])\n",
    "\n",
    "# Classify into Negative/Positive sentiment or 1-5 stars \n",
    "binary_classification = True"
   ]
  },
  {
   "cell_type": "code",
   "execution_count": null,
   "metadata": {},
   "outputs": [],
   "source": [
    "## Clean \n",
    "\n",
    "for file_iter, datafile in enumerate(data_files):\n",
    "    print('Cleaning ' + data_files[file_iter])\n",
    "    with open(datafile, newline='', encoding='utf8') as csv_in:\n",
    "        \n",
    "        datareader = csv.reader(csv_in, delimiter='\\t')\n",
    "        \n",
    "        for idx,row in enumerate(datareader): \n",
    "            \n",
    "            # Title of comment\n",
    "            title = row[0]\n",
    "            title = isolate_punctuation(title)\n",
    "\n",
    "            # Body of comment\n",
    "            body = row[1]\n",
    "            body = isolate_punctuation(body)\n",
    "\n",
    "            # The rating\n",
    "            rating = int(row[2])\n",
    "\n",
    "            # Merge title and body into one file \n",
    "            toWrite = title + '\\n' + body + '\\n'\n",
    "            \n",
    "            # Only consider english reviews\n",
    "            if(binary_classification):\n",
    "                # Make negative and positive folder \n",
    "                make_dirs([os.path.join(data_outfolder,s) for s in ['neg','pos']])\n",
    "                \n",
    "                # Ratings 1 and 2 become \"negative\" and ratings 4 and 5 become \"positive\"\n",
    "                if(rating < 3):\n",
    "                    \n",
    "                    # Negatives filename, taking into account which csv source\n",
    "                    fileNeg = os.path.join(data_outfolder, \"neg\", str(file_iter) + \"-\" + str(idx) + \".txt\")\n",
    "                    \n",
    "                    with io.open(fileNeg, \"w\", encoding=\"utf-8\") as f:\n",
    "                        f.write(toWrite)\n",
    "                elif(rating > 3):\n",
    "                    \n",
    "                    # Positives filename, taking into account which csv source\n",
    "                    filePos = os.path.join(data_outfolder, \"pos\", str(file_iter) + \"-\" + str(idx) + \".txt\")\n",
    "                    with io.open(filePos, \"w\", encoding=\"utf-8\") as f:\n",
    "                        f.write(toWrite)       \n",
    "            else:\n",
    "                \n",
    "                # Make ratings folders \n",
    "                make_dirs([os.path.join(data_outfolder,s) for s in ['1','2','3','4','5']])\n",
    "                \n",
    "                # Filename, taking into account which csv source\n",
    "                filename = os.path.join(data_outfolder, str(rating), str(file_iter) + \"-\" + str(idx) + \".txt\")\n",
    "\n",
    "                with io.open(filename, \"w\", encoding=\"utf-8\") as f:\n",
    "                    f.write(toWrite)\n",
    "                    \n",
    "print('Finished cleaning data!')"
   ]
  },
  {
   "cell_type": "code",
   "execution_count": null,
   "metadata": {},
   "outputs": [],
   "source": []
  }
 ],
 "metadata": {
  "kernelspec": {
   "display_name": "Python 3",
   "language": "python",
   "name": "python3"
  },
  "language_info": {
   "codemirror_mode": {
    "name": "ipython",
    "version": 3
   },
   "file_extension": ".py",
   "mimetype": "text/x-python",
   "name": "python",
   "nbconvert_exporter": "python",
   "pygments_lexer": "ipython3",
   "version": "3.7.6"
  }
 },
 "nbformat": 4,
 "nbformat_minor": 1
}
