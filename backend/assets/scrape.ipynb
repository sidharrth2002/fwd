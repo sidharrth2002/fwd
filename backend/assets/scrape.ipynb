{
 "cells": [
  {
   "cell_type": "code",
   "execution_count": 1,
   "metadata": {},
   "outputs": [
    {
     "name": "stdout",
     "output_type": "stream",
     "text": [
      "Requirement already satisfied: lxml in /Library/Frameworks/Python.framework/Versions/3.8/lib/python3.8/site-packages (4.6.2)\n",
      "\u001b[33mWARNING: You are using pip version 21.3.1; however, version 22.2.2 is available.\n",
      "You should consider upgrading via the '/usr/local/bin/python3 -m pip install --upgrade pip' command.\u001b[0m\n",
      "Note: you may need to restart the kernel to use updated packages.\n",
      "Requirement already satisfied: requests in /Library/Frameworks/Python.framework/Versions/3.8/lib/python3.8/site-packages (2.28.0)\n",
      "Requirement already satisfied: certifi>=2017.4.17 in /Library/Frameworks/Python.framework/Versions/3.8/lib/python3.8/site-packages (from requests) (2021.10.8)\n",
      "Requirement already satisfied: idna<4,>=2.5 in /Library/Frameworks/Python.framework/Versions/3.8/lib/python3.8/site-packages (from requests) (2.10)\n",
      "Requirement already satisfied: urllib3<1.27,>=1.21.1 in /Library/Frameworks/Python.framework/Versions/3.8/lib/python3.8/site-packages (from requests) (1.26.3)\n",
      "Requirement already satisfied: charset-normalizer~=2.0.0 in /Library/Frameworks/Python.framework/Versions/3.8/lib/python3.8/site-packages (from requests) (2.0.12)\n",
      "\u001b[33mWARNING: You are using pip version 21.3.1; however, version 22.2.2 is available.\n",
      "You should consider upgrading via the '/usr/local/bin/python3 -m pip install --upgrade pip' command.\u001b[0m\n",
      "Note: you may need to restart the kernel to use updated packages.\n"
     ]
    }
   ],
   "source": [
    "%pip install lxml\n",
    "%pip install requests"
   ]
  },
  {
   "cell_type": "code",
   "execution_count": 2,
   "metadata": {},
   "outputs": [],
   "source": [
    "### Trustpilot data scraping module \n",
    "### Author: Hakim Khalafi\n",
    "\n",
    "## Imports\n",
    "\n",
    "import math\n",
    "import csv\n",
    "import time\n",
    "import json\n",
    "import requests\n",
    "import lxml.html as html"
   ]
  },
  {
   "cell_type": "code",
   "execution_count": 3,
   "metadata": {},
   "outputs": [
    {
     "name": "stdout",
     "output_type": "stream",
     "text": [
      "Scraper set for http://www.trustpilot.com/review/www.fwd.com.sg - saving result to datafwd.csv\n"
     ]
    }
   ],
   "source": [
    "## Configurations\n",
    "\n",
    "# Trustpilot review page\n",
    "basePage = 'http://www.trustpilot.com/review/'\n",
    "reviewSite = 'www.fwd.com.sg'\n",
    "reviewPage = basePage + reviewSite\n",
    "\n",
    "# Data file to save to\n",
    "datafile = 'datafwd.csv'\n",
    "\n",
    "# Trustpilot default \n",
    "resultsPerPage = 20 \n",
    "\n",
    "print('Scraper set for ' + reviewPage + ' - saving result to ' + datafile)"
   ]
  },
  {
   "cell_type": "code",
   "execution_count": 11,
   "metadata": {},
   "outputs": [
    {
     "name": "stdout",
     "output_type": "stream",
     "text": [
      "Found total of 1121 pages to scrape\n"
     ]
    },
    {
     "name": "stderr",
     "output_type": "stream",
     "text": [
      "/Library/Frameworks/Python.framework/Versions/3.8/lib/python3.8/site-packages/urllib3/connectionpool.py:1013: InsecureRequestWarning: Unverified HTTPS request is being made to host 'www.trustpilot.com'. Adding certificate verification is strongly advised. See: https://urllib3.readthedocs.io/en/latest/advanced-usage.html#ssl-warnings\n",
      "  warnings.warn(\n"
     ]
    }
   ],
   "source": [
    "## Count amount of pages to scrape\n",
    "\n",
    "# Get page, skipping HTTPS as it gives certificate errors\n",
    "page = requests.get(reviewPage, verify=False)\n",
    "tree = html.fromstring(page.content)\n",
    "\n",
    "# Total amount of ratings\n",
    "ratingCount = tree.xpath('//span[@class=\"typography_typography__QgicV typography_h2__wAVpO typography_weight-medium__UNMDK typography_fontstyle-normal__kHyN3 styles_reviewCount__wGBxK\"]')\n",
    "ratingCount = int(ratingCount[0].text.replace(',',''))\n",
    "\n",
    "# Amount of chunks to consider for displaying processing output \n",
    "# For ex. 10 means output progress for every 10th of the data\n",
    "tot_chunks = 20\n",
    "\n",
    "# Throttling to avoid spamming page with requests\n",
    "# With sleepTime seconds between every page request\n",
    "throttle = True\n",
    "sleepTime = 1\n",
    "\n",
    "# Total pages to scrape\n",
    "pages = math.ceil(ratingCount / resultsPerPage)\n",
    "print('Found total of ' + str(pages) + ' pages to scrape')"
   ]
  },
  {
   "cell_type": "code",
   "execution_count": 13,
   "metadata": {},
   "outputs": [
    {
     "name": "stdout",
     "output_type": "stream",
     "text": [
      "Processing..\n"
     ]
    },
    {
     "ename": "KeyboardInterrupt",
     "evalue": "",
     "output_type": "error",
     "traceback": [
      "\u001b[0;31m---------------------------------------------------------------------------\u001b[0m",
      "\u001b[0;31mKeyboardInterrupt\u001b[0m                         Traceback (most recent call last)",
      "\u001b[0;32m<ipython-input-13-f4488b598b4e>\u001b[0m in \u001b[0;36m<module>\u001b[0;34m\u001b[0m\n\u001b[1;32m      9\u001b[0m \u001b[0;34m\u001b[0m\u001b[0m\n\u001b[1;32m     10\u001b[0m         \u001b[0;31m# Sleep if throttle enabled\u001b[0m\u001b[0;34m\u001b[0m\u001b[0;34m\u001b[0m\u001b[0;34m\u001b[0m\u001b[0m\n\u001b[0;32m---> 11\u001b[0;31m         \u001b[0;32mif\u001b[0m\u001b[0;34m(\u001b[0m\u001b[0mthrottle\u001b[0m\u001b[0;34m)\u001b[0m\u001b[0;34m:\u001b[0m \u001b[0mtime\u001b[0m\u001b[0;34m.\u001b[0m\u001b[0msleep\u001b[0m\u001b[0;34m(\u001b[0m\u001b[0msleepTime\u001b[0m\u001b[0;34m)\u001b[0m\u001b[0;34m\u001b[0m\u001b[0;34m\u001b[0m\u001b[0m\n\u001b[0m\u001b[1;32m     12\u001b[0m \u001b[0;34m\u001b[0m\u001b[0m\n\u001b[1;32m     13\u001b[0m         \u001b[0mpage\u001b[0m \u001b[0;34m=\u001b[0m \u001b[0mrequests\u001b[0m\u001b[0;34m.\u001b[0m\u001b[0mget\u001b[0m\u001b[0;34m(\u001b[0m\u001b[0mreviewPage\u001b[0m \u001b[0;34m+\u001b[0m \u001b[0;34m'?page='\u001b[0m \u001b[0;34m+\u001b[0m \u001b[0mstr\u001b[0m\u001b[0;34m(\u001b[0m\u001b[0mi\u001b[0m\u001b[0;34m)\u001b[0m\u001b[0;34m)\u001b[0m\u001b[0;34m\u001b[0m\u001b[0;34m\u001b[0m\u001b[0m\n",
      "\u001b[0;31mKeyboardInterrupt\u001b[0m: "
     ]
    }
   ],
   "source": [
    "## Main scraping section\n",
    "\n",
    "with open(datafile, 'w', newline='', encoding='utf8') as csvfile:\n",
    "    \n",
    "    # Tab delimited to allow for special characters\n",
    "    datawriter = csv.writer(csvfile, delimiter='\\t')\n",
    "    print('Processing..')\n",
    "    for i in range(1,pages+1):\n",
    "        \n",
    "        # Sleep if throttle enabled\n",
    "        if(throttle): time.sleep(sleepTime)\n",
    "\n",
    "        page = requests.get(reviewPage + '?page=' + str(i))\n",
    "        tree = html.fromstring(page.content)\n",
    "        \n",
    "        # Each item below scrapes a pages review titles, bodies and ratings\n",
    "        script_bodies = tree.xpath(\"//script[starts-with(@data-initial-state, 'review-info')]\")\n",
    "        for idx,elem in enumerate(script_bodies):\n",
    "            curr_item = json.loads(elem.text_content())\n",
    "\n",
    "            # Progress counting, outputs for every processed chunk\n",
    "            reviewNumber = idx + 20*(i-1) + 1\n",
    "            chunk = int(ratingCount / tot_chunks)\n",
    "            if(reviewNumber % chunk == 0): \n",
    "                print('Processed ' + str(reviewNumber) + '/'  + str(ratingCount) + ' ratings')\n",
    "            \n",
    "            title = curr_item[\"reviewHeader\"]\n",
    "            body = curr_item[\"reviewBody\"]\n",
    "            rating = curr_item[\"stars\"]\n",
    "            \n",
    "            print([title,body,rating])\n",
    "            datawriter.writerow([title,body,rating])\n",
    "            \n",
    "    print('Processed ' + str(ratingCount) + '/' + str(ratingCount) + ' ratings.. Finished!')"
   ]
  },
  {
   "cell_type": "code",
   "execution_count": null,
   "metadata": {},
   "outputs": [],
   "source": []
  }
 ],
 "metadata": {
  "kernelspec": {
   "display_name": "Python 3.8.2 64-bit",
   "language": "python",
   "name": "python3"
  },
  "language_info": {
   "codemirror_mode": {
    "name": "ipython",
    "version": 3
   },
   "file_extension": ".py",
   "mimetype": "text/x-python",
   "name": "python",
   "nbconvert_exporter": "python",
   "pygments_lexer": "ipython3",
   "version": "3.8.2"
  },
  "vscode": {
   "interpreter": {
    "hash": "aee8b7b246df8f9039afb4144a1f6fd8d2ca17a180786b69acc140d282b71a49"
   }
  }
 },
 "nbformat": 4,
 "nbformat_minor": 1
}
